{
 "cells": [
  {
   "cell_type": "code",
   "execution_count": 5,
   "metadata": {
    "collapsed": true
   },
   "outputs": [],
   "source": [
    "import openai\n"
   ]
  },
  {
   "cell_type": "code",
   "execution_count": 6,
   "outputs": [],
   "source": [
    "from openai.types.beta.threads import TextDelta\n",
    "client = openai.OpenAI()\n",
    "\n",
    "assistant = client.beta.assistants.create(\n",
    "    name=\"Math Tutor\",\n",
    "    instructions=\"You are a personal math tutor. Write and run code to answer math questions.\",\n",
    "    tools=[{\"type\": \"code_interpreter\"}],\n",
    "    model=\"gpt-4o\",\n",
    ")"
   ],
   "metadata": {
    "collapsed": false,
    "pycharm": {
     "name": "#%%\n"
    }
   }
  },
  {
   "cell_type": "code",
   "execution_count": 7,
   "outputs": [],
   "source": [
    "thread = client.beta.threads.create()\n",
    "\n"
   ],
   "metadata": {
    "collapsed": false,
    "pycharm": {
     "name": "#%%\n"
    }
   }
  },
  {
   "cell_type": "code",
   "execution_count": 11,
   "outputs": [
    {
     "name": "stdout",
     "output_type": "stream",
     "text": [
      "Message(id='msg_RkpXoGZVjUMNH8EDDs9K9jRt', assistant_id=None, attachments=[], completed_at=None, content=[TextContentBlock(text=Text(annotations=[], value=\"I need to solve the equation '3x + 11 = 14'. Can you help me?\"), type='text')], created_at=1730583559, incomplete_at=None, incomplete_details=None, metadata={}, object='thread.message', role='user', run_id=None, status=None, thread_id='thread_VhLQc91DN3QAV3STvIDSMB1E')\n"
     ]
    }
   ],
   "source": [
    "message = client.beta.threads.messages.create(\n",
    "    thread_id=thread.id,\n",
    "    role=\"user\",\n",
    "    content=\"I need to solve the equation '3x + 11 = 14'. Can you help me?\"\n",
    ")\n",
    "\n"
   ],
   "metadata": {
    "collapsed": false,
    "pycharm": {
     "name": "#%%\n"
    }
   }
  },
  {
   "cell_type": "code",
   "execution_count": 12,
   "outputs": [
    {
     "name": "stdout",
     "output_type": "stream",
     "text": [
      "Run completed with status: completed\n",
      "\n",
      "Messages:\n",
      "\n",
      "Role: Assistant\n",
      "Message:\n",
      "Jane Doe, the solution to the equation \\(3x + 11 = 14\\) is \\(x = 1\\).\n",
      "\n",
      "Role: User\n",
      "Message:\n",
      "I need to solve the equation '3x + 11 = 14'. Can you help me?\n",
      "\n",
      "Role: User\n",
      "Message:\n",
      "I need to solve the equation '3x + 11 = 14'. Can you help me?\n",
      "\n",
      "Role: User\n",
      "Message:\n",
      "I need to solve the equation '3x + 11 = 14'. Can you help me?\n",
      "\n",
      "Role: User\n",
      "Message:\n",
      "I need to solve the equation '3x + 11 = 14'. Can you help me?\n",
      "\n"
     ]
    }
   ],
   "source": [
    "run = client.beta.threads.runs.create_and_poll(\n",
    "    thread_id=thread.id,\n",
    "    assistant_id=assistant.id,\n",
    "    instructions=\"Please address the user as Jane Doe. The user has a premium account\"\n",
    ")\n",
    "\n",
    "print(\"Run completed with status: \" + run.status)\n",
    "\n",
    "if run.status == \"completed\":\n",
    "    messages = client.beta.threads.messages.list(thread_id=thread.id)\n",
    "\n",
    "    print(\"\\nMessages:\\n\")\n",
    "    for message in messages:\n",
    "        assert message.content[0].type == \"text\"\n",
    "        print(f\"Role: {message.role.capitalize()}\")\n",
    "        print(\"Message:\")\n",
    "        print(message.content[0].text.value + \"\\n\")\n",
    "\n",
    "\n",
    "\n"
   ],
   "metadata": {
    "collapsed": false,
    "pycharm": {
     "name": "#%%\n"
    }
   }
  }
 ],
 "metadata": {
  "kernelspec": {
   "name": "tensorflow2.x",
   "language": "python",
   "display_name": "Python (tensorflow2.x)"
  },
  "language_info": {
   "codemirror_mode": {
    "name": "ipython",
    "version": 2
   },
   "file_extension": ".py",
   "mimetype": "text/x-python",
   "name": "python",
   "nbconvert_exporter": "python",
   "pygments_lexer": "ipython2",
   "version": "2.7.6"
  }
 },
 "nbformat": 4,
 "nbformat_minor": 0
}