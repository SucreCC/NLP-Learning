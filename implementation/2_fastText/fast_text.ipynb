{
 "cells": [
  {
   "cell_type": "markdown",
   "id": "9156a0b3",
   "metadata": {},
   "source": [
    "## Fast Text"
   ]
  },
  {
   "cell_type": "markdown",
   "id": "aa06fe79",
   "metadata": {},
   "source": [
    "### 什么是fastText?\n",
    "\n",
    "fastText 引入了子词嵌入（subword embedding），它捕捉单词的内部结构和形态学关系。例如，“dog”、“dogs”和“dogcatcher”共享词根“dog”，但通过不同的后缀来改变词义。而在Word2Vec中，不同形式的单词会被分配不同的向量。fastText 利用子词信息来建立相似单词之间的关系。\n",
    "\n",
    "在fastText中，文本分类的过程中也会生成词嵌入，除非你使用预训练的嵌入进行训练。\n",
    "\n",
    "### n-gram表示单词\n",
    "\n",
    "在Word2Vec中，每个单词被视为原子单位，忽略了单词之间的形态特征。为了解决这个问题，fastText 使用字符级的 n-gram 来表示单词。例如，对于单词 “book”，当 n=3 时，它的三元组为：\n",
    "\n",
    "- `<bo`, `boo`, `ook`, `ok>`\n",
    "\n",
    "这些三元组用来表示单词的向量。这种方法的好处是：\n",
    "\n",
    "1. 改善了低频词汇的词向量生成效果。\n",
    "2. 可以为训练词汇表之外的单词生成向量。\n",
    "\n",
    "\n",
    "### fastText 的优点：\n",
    "1. **适用于大规模数据：** 能在10分钟内处理超过10亿个词汇。\n",
    "2. **支持多语言：** 适用于包括英语、德语、西班牙语、法语等多种语言。\n",
    "3. **专注于文本分类：** 在情感分析和标签预测等标准问题上表现优异。"
   ]
  },
  {
   "cell_type": "markdown",
   "id": "b782670f",
   "metadata": {},
   "source": [
    "## Architecture"
   ]
  },
  {
   "attachments": {
    "image-2.png": {
     "image/png": "[encoded data removed]"
    }
   },
   "cell_type": "markdown",
   "id": "85fb0794",
   "metadata": {},
   "source": [
    "![image-2.png](attachment:image-2.png)"
   ]
  },
  {
   "cell_type": "markdown",
   "id": "9278034f",
   "metadata": {},
   "source": [
    "## Implementation"
   ]
  },
  {
   "cell_type": "markdown",
   "id": "db9c4b22",
   "metadata": {},
   "source": [
    "### Data Prepare"
   ]
  },
  {
   "cell_type": "markdown",
   "id": "faa9b772",
   "metadata": {},
   "source": [
    "清华大学的新闻分类文本数据集下载：https://thunlp.oss-cn-qingdao.aliyuncs.com/THUCNews.zip\n",
    "\n",
    "下载后进行解压，把相应的中文目录替换成以下英文名，方便程序读取数据\n",
    "\n",
    "['affairs','constellation','economic','edu','ent','fashion','game','home','house','lottery','science','sports','society','stock']"
   ]
  },
  {
   "cell_type": "markdown",
   "id": "1b2fc740",
   "metadata": {},
   "source": [
    "### Import Library"
   ]
  },
  {
   "cell_type": "code",
   "execution_count": 3,
   "id": "4b6e208f",
   "metadata": {},
   "outputs": [],
   "source": [
    "import jieba\n",
    "import os"
   ]
  },
  {
   "cell_type": "code",
   "execution_count": 7,
   "id": "e28c694d",
   "metadata": {
    "scrolled": true
   },
   "outputs": [
    {
     "name": "stderr",
     "output_type": "stream",
     "text": [
      "Building prefix dict from the default dictionary ...\n",
      "Loading model from cache /var/folders/4l/s0_5bfp95ybfwcnzh06g6h080000gn/T/jieba.cache\n",
      "Loading model cost 0.298 seconds.\n",
      "Prefix dict has been built successfully.\n"
     ]
    },
    {
     "name": "stdout",
     "output_type": "stream",
     "text": [
      "完成输出数据!\n"
     ]
    }
   ],
   "source": [
    "base_path = \"/Users/dengkai/workspace/machine-learning/NLP/data_set/nlp/fastText/\"\n",
    "dir_name = \"THUCNews/\"\n",
    "path = base_path + dir_name\n",
    "dir_list = ['体育','娱乐','家居','彩票','房产','教育','时尚','时政','星座','游戏','社会','科技','股票','财经']\n",
    "\n",
    "training_data = open(\"news_fasttext_train.txt\", \"w\")\n",
    "test_data = open(\"news_fasttext_test.txt\", \"w\")\n",
    "\n",
    "num = -1\n",
    "for e in dir_list:\n",
    "    num += 1\n",
    "    input_path = path + e + '/'\n",
    "    files = os.listdir(input_path)\n",
    "    count = 0\n",
    "    for fileName in files:\n",
    "        count += 1\n",
    "        file_path = input_path + fileName\n",
    "        with open(file_path, 'r') as fr:\n",
    "            text = fr.read()\n",
    "        text = str(text.encode(\"utf-8\"), 'utf-8')\n",
    "        seg_text = jieba.cut(text.replace(\"\\t\", \" \").replace(\"\\n\", \" \"))\n",
    "        outline = \" \".join(seg_text)\n",
    "        outline = outline + \"\\t__lable__\" + e + \"\\n\"\n",
    "        \n",
    "        if count < 10000:\n",
    "            training_data.write(outline)\n",
    "            training_data.flush()\n",
    "            continue\n",
    "        elif count < 20000:\n",
    "            test_data.write(outline)\n",
    "            test_data.flush()\n",
    "            continue\n",
    "        else:\n",
    "            break\n",
    "training_data.close()\n",
    "test_data.close()\n",
    "print(\"finished data input!\")"
   ]
  },
  {
   "cell_type": "code",
   "execution_count": 18,
   "id": "010a683b",
   "metadata": {},
   "outputs": [
    {
     "data": {
      "text/plain": [
       "<_io.TextIOWrapper name='news_fasttext_train.txt' mode='w' encoding='UTF-8'>"
      ]
     },
     "execution_count": 18,
     "metadata": {},
     "output_type": "execute_result"
    }
   ],
   "source": [
    "training_data"
   ]
  },
  {
   "cell_type": "code",
   "execution_count": 8,
   "id": "38712ff0",
   "metadata": {},
   "outputs": [
    {
     "name": "stderr",
     "output_type": "stream",
     "text": [
      "Read 72M words\n",
      "Number of words:  664889\n",
      "Number of labels: 0\n"
     ]
    },
    {
     "name": "stdout",
     "output_type": "stream",
     "text": [
      "finished training\n"
     ]
    },
    {
     "name": "stderr",
     "output_type": "stream",
     "text": [
      "\r",
      "Progress: 100.0% words/sec/thread: 20023041 lr:  0.000000 avg.loss:       nan ETA:   0h 0m 0s\n"
     ]
    }
   ],
   "source": [
    "import fasttext\n",
    "model = fasttext.train_supervised(\"news_fasttext_train.txt\", label_prefix=\"__label__\")\n",
    "print(\"finished training\")"
   ]
  },
  {
   "cell_type": "code",
   "execution_count": 16,
   "id": "06ce301b",
   "metadata": {},
   "outputs": [
    {
     "name": "stderr",
     "output_type": "stream",
     "text": [
      "Read 72M words\n",
      "Number of words:  664889\n",
      "Number of labels: 0\n",
      "Progress: 100.0% words/sec/thread: 19752229 lr:  0.000000 avg.loss:       nan ETA:   0h 0m 0s\n"
     ]
    }
   ],
   "source": [
    "model = fasttext.train_supervised(\"news_fasttext_train.txt\", label_prefix=\"__label__\", lr=0.1)"
   ]
  },
  {
   "cell_type": "code",
   "execution_count": 17,
   "id": "cd651d28",
   "metadata": {},
   "outputs": [
    {
     "name": "stdout",
     "output_type": "stream",
     "text": [
      "precision: nan\n"
     ]
    }
   ],
   "source": [
    "result = model.test(\"news_fasttext_test.txt\")\n",
    "print('precision:', result[1])"
   ]
  }
 ],
 "metadata": {
  "kernelspec": {
   "display_name": "tensorflow",
   "language": "python",
   "name": "tensorflow"
  },
  "language_info": {
   "codemirror_mode": {
    "name": "ipython",
    "version": 3
   },
   "file_extension": ".py",
   "mimetype": "text/x-python",
   "name": "python",
   "nbconvert_exporter": "python",
   "pygments_lexer": "ipython3",
   "version": "3.11.2"
  },
  "toc": {
   "base_numbering": 1,
   "nav_menu": {},
   "number_sections": true,
   "sideBar": true,
   "skip_h1_title": false,
   "title_cell": "Table of Contents",
   "title_sidebar": "Contents",
   "toc_cell": false,
   "toc_position": {},
   "toc_section_display": true,
   "toc_window_display": false
  }
 },
 "nbformat": 4,
 "nbformat_minor": 5
}
